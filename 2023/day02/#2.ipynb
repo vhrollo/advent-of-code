{
 "cells": [
  {
   "cell_type": "markdown",
   "metadata": {},
   "source": [
    "**2. Desember**"
   ]
  },
  {
   "cell_type": "code",
   "execution_count": null,
   "metadata": {},
   "outputs": [],
   "source": [
    "clean_data = [(int(i[5:i.find(':')]),[[[k.split()[1], int(k.split()[0])] for k in j.split(',')] for j in i[i.find(':')+1:].split(';')]) for i in data.split('\\n')]\n",
    "valid_amount = {'red':12,'green':13,'blue':14}\n",
    "clean_data"
   ]
  },
  {
   "cell_type": "code",
   "execution_count": null,
   "metadata": {},
   "outputs": [],
   "source": [
    "def validity_check(i):\n",
    "    for j in i[1]:\n",
    "        for k in j:\n",
    "            if valid_amount[k[0]] < k[1]:\n",
    "                return False\n",
    "    return True\n",
    "sum([pair[0] for pair in list(filter(validity_check, clean_data))])"
   ]
  },
  {
   "cell_type": "code",
   "execution_count": null,
   "metadata": {},
   "outputs": [],
   "source": [
    "def power(i):\n",
    "    r = 0\n",
    "    g = 0\n",
    "    b = 0\n",
    "    for j in i[1]:\n",
    "        for k in j:\n",
    "            if k[0] == 'red' and k[1] > r:\n",
    "                r = k[1]\n",
    "            elif k[0] == 'green' and k[1] > g:\n",
    "                g = k[1]\n",
    "            elif k[0] == 'blue' and k[1] > b:\n",
    "                b = k[1]\n",
    "    return r*g*b\n",
    "sum([power(i) for i in clean_data])"
   ]
  }
 ],
 "metadata": {
  "kernelspec": {
   "display_name": "Python 3",
   "language": "python",
   "name": "python3"
  },
  "language_info": {
   "codemirror_mode": {
    "name": "ipython",
    "version": 3
   },
   "file_extension": ".py",
   "mimetype": "text/x-python",
   "name": "python",
   "nbconvert_exporter": "python",
   "pygments_lexer": "ipython3",
   "version": "3.11.4"
  }
 },
 "nbformat": 4,
 "nbformat_minor": 2
}
