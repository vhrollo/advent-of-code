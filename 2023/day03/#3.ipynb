{
 "cells": [
  {
   "cell_type": "code",
   "execution_count": null,
   "metadata": {},
   "outputs": [],
   "source": [
    "import re\n",
    "a = data.split()\n",
    "sum = 0\n",
    "\n",
    "def valid(x, y):\n",
    "    char_around = set()\n",
    "    for i in range( max( 0, y-1 ), min( len(a), y+2 )):\n",
    "        for j in range( max( 0, int(x[0])-1 ), min( len(a[y]), int(x[1])+1)):\n",
    "            if not a[i][j].isnumeric():\n",
    "                char_around.add(a[i][j])\n",
    "    return len(char_around) > 1\n",
    "        \n",
    "for i, string in enumerate(a):\n",
    "    for match in re.finditer(r'(\\d+)', string):\n",
    "        if valid(match.span(), i):\n",
    "            sum += int(match.group())\n",
    "\n",
    "sum\n"
   ]
  },
  {
   "cell_type": "code",
   "execution_count": null,
   "metadata": {},
   "outputs": [],
   "source": [
    "import re\n",
    "\n",
    "clean_data = data.split()\n",
    "numbers = []\n",
    "gears = []\n",
    "sum = 0\n",
    "\n",
    "for i, string in enumerate(clean_data):\n",
    "    for match in re.finditer(r'(\\d+)', string):\n",
    "        numbers.append((match.span(),i,int(match.group())))\n",
    "\n",
    "\n",
    "for i, string in enumerate(clean_data):\n",
    "    for match in re.finditer(r'[^.\\d]', string):\n",
    "        gears.append((match.span(),i))\n",
    "\n",
    "\n",
    "for gear in gears:\n",
    "    connective = []\n",
    "    numbers_pop = numbers\n",
    "    for i in range( max( 0, gear[1]-1 ), min( len(clean_data), gear[1]+2 )):\n",
    "        for j in range( max( 0, int(gear[0][0])-1 ), min( len(clean_data[gear[1]]), int(gear[0][1])+1)):\n",
    "            for number in numbers_pop:\n",
    "                if number[0][0] <= j < number[0][1] and i == number[1]:\n",
    "                    numbers_pop.pop(numbers_pop.index(number))\n",
    "                    connective.append(number[2])\n",
    "    \n",
    "    if len(connective) > 1:\n",
    "        result = 1\n",
    "        for x in connective:\n",
    "            result = result * x\n",
    "        sum += result\n",
    "\n",
    "sum"
   ]
  }
 ],
 "metadata": {
  "kernelspec": {
   "display_name": "Python 3",
   "language": "python",
   "name": "python3"
  },
  "language_info": {
   "codemirror_mode": {
    "name": "ipython",
    "version": 3
   },
   "file_extension": ".py",
   "mimetype": "text/x-python",
   "name": "python",
   "nbconvert_exporter": "python",
   "pygments_lexer": "ipython3",
   "version": "3.11.4"
  }
 },
 "nbformat": 4,
 "nbformat_minor": 2
}
