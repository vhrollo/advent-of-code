{
 "cells": [
  {
   "cell_type": "markdown",
   "metadata": {},
   "source": [
    "marked 50 loc likely having a prob\n",
    "need to check all 50 stars by des 25"
   ]
  },
  {
   "cell_type": "markdown",
   "metadata": {},
   "source": [
    "**1. Desember**"
   ]
  },
  {
   "cell_type": "code",
   "execution_count": null,
   "metadata": {},
   "outputs": [],
   "source": [
    "def keep_num(a):\n",
    "    return list(map(lambda x: int(\"\".join(filter(lambda y: y.isdigit(), map(str,x)))),a))"
   ]
  },
  {
   "cell_type": "code",
   "execution_count": null,
   "metadata": {},
   "outputs": [],
   "source": [
    "def two_digit(a):\n",
    "    for i in range(0, len(a)):\n",
    "        if len(str(a[i])) > 2:\n",
    "            a[i] = int(str(a[i])[0]+str(a[i])[-1])\n",
    "        elif len(str(a[i])) == 1:\n",
    "            a[i] = int(str(a[i])*2)\n",
    "    return a\n"
   ]
  },
  {
   "cell_type": "code",
   "execution_count": null,
   "metadata": {},
   "outputs": [],
   "source": [
    "cleaned_data = two_digit(keep_num(parsed_data))\n",
    "print(cleaned_data)"
   ]
  },
  {
   "cell_type": "code",
   "execution_count": null,
   "metadata": {},
   "outputs": [],
   "source": [
    "sum(cleaned_data)"
   ]
  },
  {
   "cell_type": "code",
   "execution_count": null,
   "metadata": {},
   "outputs": [],
   "source": [
    "digits = {'one':'1', 'two':'2', 'three':'3', 'four':'4', 'five':'5', 'six':'6', 'seven':'7', 'eight':'8', 'nine':'9'}\n",
    "test_strings = ['two1nine', 'eightwothree', 'abcone2threexyz', 'xtwone3four']"
   ]
  },
  {
   "cell_type": "code",
   "execution_count": null,
   "metadata": {},
   "outputs": [],
   "source": [
    "def find_digit(a, b):\n",
    "    if b:\n",
    "        for i, c in enumerate(a):\n",
    "            if c.isdigit():\n",
    "                return (i, a[i])\n",
    "    elif b==False:\n",
    "        for i, c in enumerate(a[::-1]):\n",
    "            if c.isdigit():\n",
    "                return (i+1, a[::-1][i])\n",
    "\n",
    "def find_letter_digit(a, b):\n",
    "    result = None\n",
    "    for i in digits.keys():\n",
    "        if b:\n",
    "            c = a.find(i)\n",
    "            if c > -1:\n",
    "                if result == None:\n",
    "                    result = (c, digits[i])\n",
    "                elif c < result[0]:\n",
    "                    result = (c, digits[i])\n",
    "        elif b==False:\n",
    "            c = a.rfind(i) \n",
    "            #print(c, i)\n",
    "            if c > -1:\n",
    "                c = len(a) - c\n",
    "                if result == None:\n",
    "                    result = (c, digits[i])\n",
    "                elif c < result[0]:\n",
    "                    result = (c, digits[i])\n",
    "    return result\n",
    "\n",
    "\n",
    "def final_digit(string):\n",
    "    a = None\n",
    "    b = None\n",
    "    f_l = find_letter_digit(string, True)\n",
    "    f_d = find_digit(string,True)\n",
    "    b_l = find_letter_digit(string, False)\n",
    "    b_d = find_digit(string, False)\n",
    "    if f_l == None:\n",
    "        a = f_d[1]\n",
    "    elif f_d == None:\n",
    "        a = f_l[1]\n",
    "    elif f_l[0] < f_d[0]:\n",
    "        a = f_l[1]\n",
    "    else:\n",
    "        a = f_d[1]\n",
    "\n",
    "    \n",
    "    if b_l == None:\n",
    "        b = b_d[1]\n",
    "    elif b_d == None:\n",
    "        b = b_l[1]\n",
    "    elif b_l[0] < b_d[0]:\n",
    "        b = b_l[1]\n",
    "    else:\n",
    "        b = b_d[1]\n",
    "\n",
    "    return int(a+b)"
   ]
  },
  {
   "cell_type": "code",
   "execution_count": null,
   "metadata": {},
   "outputs": [],
   "source": [
    "clean_numbers = list(map(lambda x:final_digit(x), parsed_data))\n",
    "list(zip(parsed_data, clean_numbers))\n",
    "#clean_numbers\n",
    "sum(clean_numbers)"
   ]
  }
 ],
 "metadata": {
  "kernelspec": {
   "display_name": "Python 3",
   "language": "python",
   "name": "python3"
  },
  "language_info": {
   "codemirror_mode": {
    "name": "ipython",
    "version": 3
   },
   "file_extension": ".py",
   "mimetype": "text/x-python",
   "name": "python",
   "nbconvert_exporter": "python",
   "pygments_lexer": "ipython3",
   "version": "3.11.4"
  }
 },
 "nbformat": 4,
 "nbformat_minor": 2
}
