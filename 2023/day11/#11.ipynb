{
 "cells": [
  {
   "cell_type": "code",
   "execution_count": null,
   "metadata": {},
   "outputs": [],
   "source": [
    "import itertools\n",
    "import numpy as np\n",
    "\n",
    "data = open('test.txt', 'r').read()\n",
    "lines = data.splitlines()\n",
    "matrix = [list(line) for line in lines]"
   ]
  },
  {
   "cell_type": "code",
   "execution_count": null,
   "metadata": {},
   "outputs": [],
   "source": [
    "#expansion\n",
    "size = 2 - 1 #set the mulitiplied expansion size\n",
    "e_r = []\n",
    "e_c = []\n",
    "for i in range(len(matrix)):\n",
    "    if len(set(matrix[i])) == 1:\n",
    "        e_r.append(i)\n",
    "\n",
    "for i in range(len(matrix)):\n",
    "    if len(set(map(lambda x: x[i], matrix))) == 1:\n",
    "        e_c.append(i)\n",
    "\n",
    "\n",
    "for i in reversed(e_r):\n",
    "    for s in range(size):\n",
    "        matrix.insert(i,matrix[i].copy())\n",
    "\n",
    "for i in reversed(e_c):\n",
    "    for row in matrix:\n",
    "        for s in range(size):\n",
    "            row.insert(i,row[i])"
   ]
  },
  {
   "cell_type": "code",
   "execution_count": null,
   "metadata": {},
   "outputs": [],
   "source": [
    "#number all stars\n",
    "galaxies = {}\n",
    "count = 1\n",
    "for i in range(len(matrix)):\n",
    "    for j in range(len(matrix[i])):\n",
    "        if matrix[i][j] == '#':\n",
    "            galaxies[count] = [i, j]\n",
    "            count += 1"
   ]
  },
  {
   "cell_type": "code",
   "execution_count": null,
   "metadata": {},
   "outputs": [],
   "source": [
    "#find all pa\n",
    "pairs = [(combo) for combo in itertools.combinations(galaxies.keys(),2)]\n",
    "len(pairs)"
   ]
  },
  {
   "cell_type": "code",
   "execution_count": null,
   "metadata": {},
   "outputs": [],
   "source": [
    "c_matrix = [line[:] for line in matrix]\n",
    "\n",
    "#Bresenham's line drawing algorithm\n",
    "def calculateTraversal(pos, to_pos):\n",
    "   \n",
    "    dx = abs(to_pos[1] - pos[1])\n",
    "    dy = abs(to_pos[0] - pos[0])\n",
    "    sx = np.sign(to_pos[1] - pos[1])\n",
    "    sy = np.sign(to_pos[0] - pos[0])\n",
    "\n",
    "    err = dx - dy\n",
    "\n",
    "    currentX = pos[1]\n",
    "    currentY = pos[0]\n",
    "\n",
    "    counter = 0\n",
    "\n",
    "    while True:\n",
    "\n",
    "        if currentX == to_pos[1] and currentY == to_pos[0]:\n",
    "            c_matrix[currentY][currentX] = '#'\n",
    "            return counter\n",
    "        \n",
    "        e2 = 2 * err\n",
    "\n",
    "        if e2 > -dy:\n",
    "            err -= dy\n",
    "            currentX += sx\n",
    "        elif e2 < dx:\n",
    "            err += dx\n",
    "            currentY += sy\n",
    "\n",
    "        counter += 1\n",
    "        c_matrix[currentY][currentX] = 'O'\n",
    "\n",
    "\n",
    "print(calculateTraversal(galaxies[1],galaxies[5]))\n",
    "for i in c_matrix:\n",
    "    print(i)"
   ]
  },
  {
   "cell_type": "code",
   "execution_count": null,
   "metadata": {},
   "outputs": [],
   "source": [
    "path_count = 0\n",
    "for i, j in pairs:\n",
    "    path_count += calculateTraversal(galaxies[i],galaxies[j])\n",
    "print(path_count)"
   ]
  },
  {
   "cell_type": "markdown",
   "metadata": {},
   "source": [
    "- 0: 292\n",
    "- 1: 374\n",
    "- 2: 456"
   ]
  },
  {
   "cell_type": "code",
   "execution_count": null,
   "metadata": {},
   "outputs": [],
   "source": [
    "#it increases inearily\n",
    "a = 8736819\n",
    "b = 9563821\n",
    "c = 10390823\n",
    "d = b-a\n",
    "print(b-a, c-b)\n",
    "\n",
    "def f(i): return a + (i-1)*d\n",
    "\n",
    "f(1000000)"
   ]
  }
 ],
 "metadata": {
  "kernelspec": {
   "display_name": "Python 3",
   "language": "python",
   "name": "python3"
  },
  "language_info": {
   "codemirror_mode": {
    "name": "ipython",
    "version": 3
   },
   "file_extension": ".py",
   "mimetype": "text/x-python",
   "name": "python",
   "nbconvert_exporter": "python",
   "pygments_lexer": "ipython3",
   "version": "3.11.4"
  }
 },
 "nbformat": 4,
 "nbformat_minor": 2
}
