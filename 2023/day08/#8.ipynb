{
 "cells": [
  {
   "cell_type": "code",
   "execution_count": null,
   "metadata": {},
   "outputs": [],
   "source": [
    "lines = data.splitlines()\n",
    "instructions = list(map(int,lines[0].replace('L','0').replace('R','1')))\n",
    "nodes = {node[0:3] : (node[7:10],node[12:15]) for node in lines[2:]}"
   ]
  },
  {
   "cell_type": "code",
   "execution_count": null,
   "metadata": {},
   "outputs": [],
   "source": [
    "current_node = 'AAA'\n",
    "i = 0\n",
    "counter = 0\n",
    "\n",
    "while current_node != 'ZZZ':\n",
    "    current_node = nodes[current_node][instructions[i]]\n",
    "    i = (i + 1) % len(instructions) #modulo len of instructions\n",
    "    counter += 1\n",
    "print('{} steps were required to reach \\'ZZZ\\''.format(counter))\n"
   ]
  },
  {
   "cell_type": "code",
   "execution_count": null,
   "metadata": {},
   "outputs": [],
   "source": [
    "current_nodes = [node for node in nodes.keys() if node.endswith('A')]\n",
    "start_nodes = current_nodes.copy()\n",
    "i = 0\n",
    "counter = 0\n",
    "\n",
    "while not all(node.endswith('Z') for node in current_nodes):\n",
    "    current_nodes = [nodes[node][instructions[i]] for node in current_nodes]\n",
    "    i = (i + 1) % len(instructions) #modulo len of instructions\n",
    "    counter += 1\n",
    "\n",
    "print('{} steps were required to reach \\'XXZ\\''.format(counter))"
   ]
  },
  {
   "cell_type": "code",
   "execution_count": null,
   "metadata": {},
   "outputs": [],
   "source": [
    "current_nodes = [node for node in nodes.keys() if node.endswith('A')]\n",
    "i = 0\n",
    "\n",
    "cycles =  [0] * len(current_nodes)\n",
    "cycles2 =  [0] * len(current_nodes)\n",
    "cycles3 =  [0] * len(current_nodes)\n",
    "cycles4 =  [0] * len(current_nodes)\n",
    "counter = 0\n",
    "\n",
    "while counter < 100000:\n",
    "    current_nodes = [nodes[node][instructions[i]] for node in current_nodes]\n",
    "\n",
    "    i = (i + 1) % len(instructions) #modulo len of instructions\n",
    "    counter += 1\n",
    "    \n",
    "    for index, node in enumerate(current_nodes):\n",
    "        if node.endswith('Z') and cycles[index] == 0 and counter > 0:\n",
    "            cycles[index] = (node, counter)\n",
    "        elif node.endswith('Z') and cycles2[index] == 0 and counter > 0:\n",
    "            cycles2[index] = (node, counter)\n",
    "        elif node.endswith('Z') and cycles3[index] == 0 and counter > 0:\n",
    "            cycles3[index] = (node, counter)\n",
    "        elif node.endswith('Z') and cycles4[index] == 0 and counter > 0:\n",
    "            cycles4[index] = (node, counter)\n",
    "\n",
    "print(cycles)\n",
    "print(cycles2)\n",
    "print(cycles3)\n",
    "print([cycles2[i][1] - cycles[i][1]for i in range(len(cycles))])\n",
    "print([cycles3[i][1] - cycles2[i][1]for i in range(len(cycles))])\n",
    "print([cycles4[i][1] - cycles3[i][1]for i in range(len(cycles))])"
   ]
  },
  {
   "cell_type": "code",
   "execution_count": null,
   "metadata": {},
   "outputs": [],
   "source": [
    "import math\n",
    "\n",
    "def lcm(x, y):\n",
    "    return x * y // math.gcd(x, y)\n",
    "\n",
    "numbers = [12643, 14257, 15871, 18023, 19637, 16409]\n",
    "\n",
    "#LCM\n",
    "result = numbers[0]\n",
    "for num in numbers[1:]:\n",
    "    result = lcm(result, num)\n",
    "\n",
    "print(f\"The smallest number divisible by all elements is: {result}\")"
   ]
  },
  {
   "cell_type": "code",
   "execution_count": null,
   "metadata": {},
   "outputs": [],
   "source": [
    "5//3"
   ]
  },
  {
   "cell_type": "code",
   "execution_count": null,
   "metadata": {},
   "outputs": [],
   "source": [
    "55//11"
   ]
  }
 ],
 "metadata": {
  "kernelspec": {
   "display_name": "Python 3",
   "language": "python",
   "name": "python3"
  },
  "language_info": {
   "codemirror_mode": {
    "name": "ipython",
    "version": 3
   },
   "file_extension": ".py",
   "mimetype": "text/x-python",
   "name": "python",
   "nbconvert_exporter": "python",
   "pygments_lexer": "ipython3",
   "version": "3.11.4"
  }
 },
 "nbformat": 4,
 "nbformat_minor": 2
}
