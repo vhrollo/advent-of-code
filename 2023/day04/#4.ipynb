{
 "cells": [
  {
   "cell_type": "code",
   "execution_count": null,
   "metadata": {},
   "outputs": [],
   "source": [
    "sum([2**(power-1)for power in list(filter(lambda x: x>0, [len(set(map(int,card[9:card.find('|')].split())).intersection(set(map(int,card[1+card.find('|'):].split())))) for card in data.split('\\n')]))])\n"
   ]
  },
  {
   "cell_type": "code",
   "execution_count": null,
   "metadata": {},
   "outputs": [],
   "source": [
    "cleaned_data = [[len(set(map(int,card[9:card.find('|')].split())).intersection(set(map(int,card[1+card.find('|'):].split())))),1] for card in data.split('\\n')]\n",
    "i = 0\n",
    "sum = 0\n",
    "\n",
    "while i < 202:\n",
    "    for k in range(1,cleaned_data[i][1]+1):\n",
    "        for j in range(1,cleaned_data[i][0]+1):\n",
    "            cleaned_data[i+j][1] += 1\n",
    "    sum += cleaned_data[i][1]\n",
    "    i +=1\n",
    "\n",
    "sum"
   ]
  }
 ],
 "metadata": {
  "kernelspec": {
   "display_name": "Python 3",
   "language": "python",
   "name": "python3"
  },
  "language_info": {
   "codemirror_mode": {
    "name": "ipython",
    "version": 3
   },
   "file_extension": ".py",
   "mimetype": "text/x-python",
   "name": "python",
   "nbconvert_exporter": "python",
   "pygments_lexer": "ipython3",
   "version": "3.11.4"
  }
 },
 "nbformat": 4,
 "nbformat_minor": 2
}
