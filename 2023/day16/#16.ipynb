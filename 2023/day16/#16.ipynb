{
 "cells": [
  {
   "cell_type": "code",
   "execution_count": null,
   "metadata": {},
   "outputs": [],
   "source": [
    "path = 'input.txt'\n",
    "matrix = [list(lines) for lines in open(path).read().splitlines()]"
   ]
  },
  {
   "cell_type": "code",
   "execution_count": null,
   "metadata": {},
   "outputs": [],
   "source": [
    "n = [-1, 0]\n",
    "s = [1, 0]\n",
    "e = [0, 1]\n",
    "w = [0, -1]"
   ]
  },
  {
   "cell_type": "code",
   "execution_count": null,
   "metadata": {},
   "outputs": [],
   "source": [
    "def energized(start):\n",
    "    active_lasers = [start]\n",
    "    e_matrix = [[{ 'n':False, 's':False, 'w':False, 'e':False } for _ in range(len(matrix[0]))] for _ in range(len(matrix))]\n",
    "\n",
    "    def prune(dir, y, x):\n",
    "        if dir == [0, 1]:\n",
    "            direction = 'n'\n",
    "        elif dir == [0, -1]:\n",
    "            direction = 's'\n",
    "        elif dir == [-1, 0]:\n",
    "            direction = 'w'\n",
    "        elif dir == [1, 0]:\n",
    "            direction = 'e'\n",
    "        else:\n",
    "            raise ValueError(\"Invalid vector, does not correspond to any direction\")\n",
    "        \n",
    "        if not e_matrix[y][x][direction]:\n",
    "            \n",
    "            e_matrix[y][x][direction] = True\n",
    "            active_lasers.append((dir, y, x))\n",
    "\n",
    "    def rules(dir, y, x):\n",
    "        cell = matrix[y][x]\n",
    "        if cell == '\\\\':\n",
    "            dir = list(reversed(dir))\n",
    "            prune(dir, y, x)\n",
    "        elif cell == '/':\n",
    "            dir = [-x for x in list(reversed(dir))]\n",
    "            prune(dir, y, x)\n",
    "        elif cell == '-' and (dir == n or dir == s):\n",
    "            prune(w, y, x)\n",
    "            prune(e, y, x)\n",
    "        elif cell == '|' and (dir == e or dir == w):\n",
    "            prune(s, y, x)\n",
    "            prune(n, y, x)\n",
    "        else:\n",
    "            prune(dir, y, x)\n",
    "\n",
    "    while len(active_lasers) != 0:\n",
    "        dir, y, x = active_lasers.pop()\n",
    "        if 0 <= y + dir[0] < len(matrix) and\\\n",
    "            0 <= x + dir[1] < len(matrix[0]):\n",
    "            rules(dir, y + dir[0], x + dir[1])\n",
    "\n",
    "    sum = 0\n",
    "    for y in e_matrix:\n",
    "        for x in y:\n",
    "            if any(x.values()):\n",
    "                sum += 1\n",
    "\n",
    "    return sum"
   ]
  },
  {
   "cell_type": "code",
   "execution_count": null,
   "metadata": {},
   "outputs": [],
   "source": [
    "energized((e, 0, -1))"
   ]
  },
  {
   "cell_type": "markdown",
   "metadata": {},
   "source": [
    "**Part 2**"
   ]
  },
  {
   "cell_type": "code",
   "execution_count": null,
   "metadata": {},
   "outputs": [],
   "source": [
    "max([energized((e, i, -1)) for i in range(len(matrix))]+\n",
    "    [energized((w, i, 110)) for i in range(len(matrix))]+\n",
    "    [energized((s, -1, i)) for i in range(len(matrix))]+\n",
    "    [energized((n, 110, i)) for i in range(len(matrix))]\n",
    "    )"
   ]
  }
 ],
 "metadata": {
  "kernelspec": {
   "display_name": "Python 3",
   "language": "python",
   "name": "python3"
  },
  "language_info": {
   "codemirror_mode": {
    "name": "ipython",
    "version": 3
   },
   "file_extension": ".py",
   "mimetype": "text/x-python",
   "name": "python",
   "nbconvert_exporter": "python",
   "pygments_lexer": "ipython3",
   "version": "3.11.4"
  }
 },
 "nbformat": 4,
 "nbformat_minor": 2
}
