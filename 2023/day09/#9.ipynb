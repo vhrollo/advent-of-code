{
 "cells": [
  {
   "cell_type": "code",
   "execution_count": null,
   "metadata": {},
   "outputs": [],
   "source": [
    "dataset = [list(map(int, history.split())) for history in data.splitlines()]\n",
    "test = [1,   3 ,  6 , 10,  15 , 21,  28]"
   ]
  },
  {
   "cell_type": "code",
   "execution_count": null,
   "metadata": {},
   "outputs": [],
   "source": [
    "def difference(readings, last_value = None):\n",
    "    if last_value is None:\n",
    "        last_value = []\n",
    "\n",
    "    last_value.append(readings[0])\n",
    "    new_readings = [j-i for i, j in zip(readings, readings[1:])]\n",
    "    \n",
    "    if not any(readings):\n",
    "        r_l_v = list(reversed(last_value))\n",
    "        for i in range(len(r_l_v)-1):\n",
    "            r_l_v[i + 1] = r_l_v[i + 1] - r_l_v[i]\n",
    "        return r_l_v[-1]\n",
    "    else:\n",
    "        return difference(new_readings, last_value)\n",
    "\n",
    "sum([difference(read) for read in dataset])\n"
   ]
  }
 ],
 "metadata": {
  "kernelspec": {
   "display_name": "Python 3",
   "language": "python",
   "name": "python3"
  },
  "language_info": {
   "codemirror_mode": {
    "name": "ipython",
    "version": 3
   },
   "file_extension": ".py",
   "mimetype": "text/x-python",
   "name": "python",
   "nbconvert_exporter": "python",
   "pygments_lexer": "ipython3",
   "version": "3.11.4"
  }
 },
 "nbformat": 4,
 "nbformat_minor": 2
}
