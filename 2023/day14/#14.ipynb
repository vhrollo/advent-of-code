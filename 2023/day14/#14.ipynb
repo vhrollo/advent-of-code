{
 "cells": [
  {
   "cell_type": "markdown",
   "metadata": {},
   "source": [
    "this one is a little funny, i just graphed it, looked at the cycles, and did some math by eye lmao"
   ]
  },
  {
   "cell_type": "code",
   "execution_count": null,
   "metadata": {},
   "outputs": [],
   "source": [
    "from tqdm.notebook import tqdm\n",
    "import matplotlib.pyplot as plt\n",
    "path = 'input.txt'\n",
    "matrix = [list(line) for line in open(path).read().splitlines()]"
   ]
  },
  {
   "cell_type": "code",
   "execution_count": null,
   "metadata": {},
   "outputs": [],
   "source": [
    "north = [-1, 0]\n",
    "south = [1, 0]\n",
    "east = [0, 1]\n",
    "west = [0, -1]"
   ]
  },
  {
   "cell_type": "code",
   "execution_count": null,
   "metadata": {},
   "outputs": [],
   "source": [
    "def movable(y, x, dir):\n",
    "    new_y = y + dir[0]\n",
    "    new_x = x + dir[1]\n",
    "\n",
    "    if 0 <= new_y < len(matrix) and 0 <= new_x < len(matrix[y]):\n",
    "        return matrix[new_y][new_x] == '.' and matrix[y][x] == 'O'\n",
    "    else:\n",
    "        return False\n",
    "\n",
    "def interation(dir):\n",
    "    count = 0\n",
    "    for y in range(len(matrix)):\n",
    "        for x in range(len(matrix[y])):\n",
    "            if movable(y,x, dir):\n",
    "                count += 1\n",
    "                matrix[y][x] = '.'\n",
    "                matrix[y+dir[0]][x+dir[1]] = 'O'\n",
    "    return count\n",
    "\n",
    "def sim(dir):\n",
    "    run = True\n",
    "    while run:\n",
    "        count = interation(dir)\n",
    "        if count == 0: run = False\n",
    "\n",
    "\n",
    "def sumize():\n",
    "    sum = 0\n",
    "    for i, arr in enumerate(list(reversed(matrix))):\n",
    "        sum += arr.count('O') * (i+1)\n",
    "    return sum\n",
    "\n",
    "\n",
    "\n",
    "\n",
    "numbers = []\n",
    "total_iterations = 200\n",
    "\n",
    "for _ in tqdm(range(total_iterations), desc='Total Simulations'):\n",
    "    sim(north)\n",
    "    sim(west)\n",
    "    sim(south)\n",
    "    sim(east)\n",
    "    numbers.append(sumize())"
   ]
  },
  {
   "cell_type": "code",
   "execution_count": null,
   "metadata": {},
   "outputs": [],
   "source": [
    "%matplotlib inline\n",
    "\n",
    "\n",
    "plt.plot(numbers[100:])\n",
    "\n",
    "plt.xlabel('Cycle')\n",
    "plt.ylabel('Sum')\n",
    "plt.grid(True)\n",
    "\n",
    "plt.title('Sum per cycle')\n",
    "\n",
    "plt.show()"
   ]
  },
  {
   "cell_type": "code",
   "execution_count": null,
   "metadata": {},
   "outputs": [],
   "source": [
    "print(numbers[100:].index(95961))\n",
    "print(numbers[104:].index(95961))\n",
    "print(103)"
   ]
  },
  {
   "cell_type": "code",
   "execution_count": null,
   "metadata": {},
   "outputs": [],
   "source": [
    "%matplotlib inline\n",
    "\n",
    "\n",
    "plt.plot(numbers[103:112])\n",
    "\n",
    "plt.xlabel('Cycle')\n",
    "plt.ylabel('Sum')\n",
    "plt.grid(True)\n",
    "\n",
    "plt.title('Sum per cycle')\n",
    "\n",
    "plt.show()"
   ]
  },
  {
   "cell_type": "code",
   "execution_count": null,
   "metadata": {},
   "outputs": [],
   "source": [
    "(1000000000-104) % 9"
   ]
  },
  {
   "cell_type": "code",
   "execution_count": null,
   "metadata": {},
   "outputs": [],
   "source": [
    "numbers[103:112][5]"
   ]
  }
 ],
 "metadata": {
  "kernelspec": {
   "display_name": "Python 3",
   "language": "python",
   "name": "python3"
  },
  "language_info": {
   "codemirror_mode": {
    "name": "ipython",
    "version": 3
   },
   "file_extension": ".py",
   "mimetype": "text/x-python",
   "name": "python",
   "nbconvert_exporter": "python",
   "pygments_lexer": "ipython3",
   "version": "3.10.4"
  }
 },
 "nbformat": 4,
 "nbformat_minor": 2
}
