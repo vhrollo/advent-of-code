{
 "cells": [
  {
   "cell_type": "code",
   "execution_count": null,
   "metadata": {},
   "outputs": [],
   "source": [
    "path = 'input.txt'\n",
    "data = open('input.txt').read().split(',')\n",
    "test_data = 'rn=1,cm-,qp=3,cm=2,qp-,pc=4,ot=9,ab=5,pc-,pc=6,ot=7'.split(',')"
   ]
  },
  {
   "cell_type": "code",
   "execution_count": null,
   "metadata": {},
   "outputs": [],
   "source": [
    "def get_value(word):\n",
    "\n",
    "    current_value = 0\n",
    "\n",
    "    for char in word:\n",
    "        current_value = (ord(char) + current_value) * 17 % 256\n",
    "\n",
    "    return current_value\n",
    "\n",
    "sum = 0\n",
    "for word in data:\n",
    "    sum += get_value(word)\n",
    "print(f'the Hash ends at {sum}')"
   ]
  },
  {
   "cell_type": "markdown",
   "metadata": {},
   "source": [
    "**Part 2**"
   ]
  },
  {
   "cell_type": "code",
   "execution_count": null,
   "metadata": {},
   "outputs": [],
   "source": [
    "box_arr = [{} for i in range(256)]\n",
    "\n",
    "\n",
    "def box_hash(word):\n",
    "\n",
    "    current_value = 0\n",
    "\n",
    "    for char in word:\n",
    "        current_value = (ord(char) + current_value) * 17 % 256\n",
    "\n",
    "    return current_value\n",
    "\n",
    "\n",
    "def action(word):\n",
    "    \n",
    "    if word.find('-') == -1:\n",
    "        arr = word.split('=')\n",
    "        box = box_hash(arr[0])\n",
    "        box_arr[box][arr[0]] = arr[1]\n",
    "    else:\n",
    "        arr = word.split('-')\n",
    "        box = box_hash(arr[0])\n",
    "        box_arr[box].pop(arr[0], None)\n",
    "\n",
    "for word in data:\n",
    "    action(word)\n",
    "\n",
    "sum = 0\n",
    "for i, box in enumerate(box_arr):\n",
    "    for j, val in enumerate(list(box.items())):\n",
    "        sum += (i+1) * (j+1) * int(val[1])\n",
    "\n",
    "print(sum)"
   ]
  }
 ],
 "metadata": {
  "kernelspec": {
   "display_name": "Python 3",
   "language": "python",
   "name": "python3"
  },
  "language_info": {
   "codemirror_mode": {
    "name": "ipython",
    "version": 3
   },
   "file_extension": ".py",
   "mimetype": "text/x-python",
   "name": "python",
   "nbconvert_exporter": "python",
   "pygments_lexer": "ipython3",
   "version": "3.11.4"
  }
 },
 "nbformat": 4,
 "nbformat_minor": 2
}
