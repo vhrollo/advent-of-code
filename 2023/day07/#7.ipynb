{
 "cells": [
  {
   "cell_type": "code",
   "execution_count": null,
   "metadata": {},
   "outputs": [],
   "source": [
    "hands = [ (hand[0:5], int(hand[6:])) for hand in data.splitlines() ]\n",
    "cards = ['A', 'K', 'Q', 'J', 'T', '9', '8', '7', '6', '5', '4', '3', '2']"
   ]
  },
  {
   "cell_type": "code",
   "execution_count": null,
   "metadata": {},
   "outputs": [],
   "source": [
    "type_sorted_hands = [[],[],[],[],[],[],[]]\n",
    "for i,hand in enumerate(hands):\n",
    "    sorted_hand = sorted(list(Counter(hand[0]).values()))\n",
    "    if sorted_hand[-1] < 3:\n",
    "        rank = sorted_hand[-1] + sorted_hand[-2] - 2\n",
    "    elif sorted_hand[-1] == 3:\n",
    "        rank = sorted_hand[-1] + sorted_hand[-2] -1\n",
    "    else:\n",
    "        rank = sorted_hand[-1] + 1\n",
    "    type_sorted_hands[rank].append(hand)"
   ]
  },
  {
   "cell_type": "code",
   "execution_count": null,
   "metadata": {},
   "outputs": [],
   "source": [
    "def value(A,B,step=0):\n",
    "    value_a = cards.index(A[0][step])\n",
    "    value_b = cards.index(B[0][step])\n",
    "    if value_a == value_b:\n",
    "        return value(A,B,step+1)\n",
    "    return value_a < value_b\n",
    "\n",
    "def quicksort(arr):\n",
    "    if len(arr) <= 1:\n",
    "        return arr\n",
    "    else:\n",
    "        pivot = arr[0]\n",
    "        left = [x for x in arr[1:] if value(pivot,x)]\n",
    "        right = [x for x in arr[1:] if value(x, pivot)]\n",
    "        return quicksort(left) + [pivot] + quicksort(right)\n",
    "\n",
    "result_list = []\n",
    "for type_hands in type_sorted_hands:\n",
    "    result_list.extend(quicksort(type_hands))\n",
    "result_list\n",
    "result_list[0]"
   ]
  },
  {
   "cell_type": "code",
   "execution_count": null,
   "metadata": {},
   "outputs": [],
   "source": [
    "sum = 0\n",
    "for i, hand in enumerate(result_list):\n",
    "    sum += hand[1] * (i+1)\n",
    "sum"
   ]
  },
  {
   "cell_type": "code",
   "execution_count": null,
   "metadata": {},
   "outputs": [],
   "source": [
    "hands = [ (hand[0:5], int(hand[6:])) for hand in data.splitlines() ]\n",
    "cards = ['A', 'K', 'Q', 'T', '9', '8', '7', '6', '5', '4', '3', '2', 'J']"
   ]
  },
  {
   "cell_type": "code",
   "execution_count": null,
   "metadata": {},
   "outputs": [],
   "source": [
    "hands = [ (hand[0:5], int(hand[6:])) for hand in data.splitlines() ]\n",
    "cards = ['A', 'K', 'Q', 'T', '9', '8', '7', '6', '5', '4', '3', '2', 'J']\n",
    "type_sorted_hands = [[],[],[],[],[],[],[]]\n",
    "\n",
    "for i,hand in enumerate(hands):\n",
    "    jokers = hand[0].count('J')\n",
    "    jokerless = hand[0].replace('J','')\n",
    "    sorted_hand = sorted(list(Counter(jokerless).values()))\n",
    "    if jokers == 5:\n",
    "        sorted_hand.append(5)\n",
    "    else:\n",
    "        sorted_hand[-1] += jokers\n",
    "        \n",
    "    if sorted_hand[-1] < 3:\n",
    "        rank = sorted_hand[-1] + sorted_hand[-2] - 2\n",
    "    elif sorted_hand[-1] == 3:\n",
    "        rank = sorted_hand[-1] + sorted_hand[-2] -1\n",
    "    else:\n",
    "        rank = sorted_hand[-1] + 1\n",
    "    type_sorted_hands[rank].append(hand)\n",
    "\n",
    "def value(A,B,step=0):\n",
    "    value_a = cards.index(A[0][step])\n",
    "    value_b = cards.index(B[0][step])\n",
    "    if value_a == value_b:\n",
    "        return value(A,B,step+1)\n",
    "    return value_a < value_b\n",
    "\n",
    "def quicksort(arr):\n",
    "    if len(arr) <= 1:\n",
    "        return arr\n",
    "    else:\n",
    "        pivot = arr[0]\n",
    "        left = [x for x in arr[1:] if value(pivot,x)]\n",
    "        right = [x for x in arr[1:] if value(x, pivot)]\n",
    "        return quicksort(left) + [pivot] + quicksort(right)\n",
    "\n",
    "result_list = []\n",
    "for type_hands in type_sorted_hands:\n",
    "    result_list.extend(quicksort(type_hands))\n",
    "\n",
    "sum = 0\n",
    "for i, hand in enumerate(result_list):\n",
    "    sum += hand[1] * (i+1)\n",
    "sum"
   ]
  }
 ],
 "metadata": {
  "kernelspec": {
   "display_name": "Python 3",
   "language": "python",
   "name": "python3"
  },
  "language_info": {
   "codemirror_mode": {
    "name": "ipython",
    "version": 3
   },
   "file_extension": ".py",
   "mimetype": "text/x-python",
   "name": "python",
   "nbconvert_exporter": "python",
   "pygments_lexer": "ipython3",
   "version": "3.11.4"
  }
 },
 "nbformat": 4,
 "nbformat_minor": 2
}
